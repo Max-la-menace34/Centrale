{
 "cells": [
  {
   "cell_type": "code",
   "execution_count": 1,
   "metadata": {},
   "outputs": [],
   "source": [
    "import randomvar\n",
    "import numpy as np"
   ]
  },
  {
   "cell_type": "code",
   "execution_count": 9,
   "metadata": {},
   "outputs": [],
   "source": [
    "\n",
    "def multi_apply(Fs, V) :\n",
    "   return lambda  n : np.array([[function_(value) for function_ in Fs] for value in V(n)])\n",
    "# V(n) liste des échantillon , value : un échantillon ."
   ]
  },
  {
   "cell_type": "code",
   "execution_count": 10,
   "metadata": {},
   "outputs": [
    {
     "name": "stdout",
     "output_type": "stream",
     "text": [
      "K :\n",
      "   [ 8 64 17 56]\n",
      "   [ 4 16  9 28]\n",
      "   [ 6 36 13 42]\n",
      "   [1 1 3 7]\n",
      "   [ 8 64 17 56]\n",
      "   [ 3  9  7 21]\n",
      "   [ 2  4  5 14]\n",
      "   [ 2  4  5 14]\n",
      "   [ 5 25 11 35]\n",
      "   [0 0 1 0]\n"
     ]
    }
   ],
   "source": [
    "U = randomvar.uniform()\n",
    "V = randomvar.apply_array(lambda x : (10*x).astype(int), U)\n",
    "K = multi_apply([lambda x : x, lambda x : x**2, lambda x : 2*x+1, lambda x : 7*x], V)\n",
    "\n",
    "randomvar.display(K, 'K')"
   ]
  },
  {
   "cell_type": "code",
   "execution_count": null,
   "metadata": {},
   "outputs": [],
   "source": []
  }
 ],
 "metadata": {
  "kernelspec": {
   "display_name": "Python 3.8.10 64-bit",
   "language": "python",
   "name": "python3"
  },
  "language_info": {
   "codemirror_mode": {
    "name": "ipython",
    "version": 3
   },
   "file_extension": ".py",
   "mimetype": "text/x-python",
   "name": "python",
   "nbconvert_exporter": "python",
   "pygments_lexer": "ipython3",
   "version": "3.8.10"
  },
  "orig_nbformat": 4,
  "vscode": {
   "interpreter": {
    "hash": "916dbcbb3f70747c44a77c7bcd40155683ae19c65e1c03b4aa3499c5328201f1"
   }
  }
 },
 "nbformat": 4,
 "nbformat_minor": 2
}
