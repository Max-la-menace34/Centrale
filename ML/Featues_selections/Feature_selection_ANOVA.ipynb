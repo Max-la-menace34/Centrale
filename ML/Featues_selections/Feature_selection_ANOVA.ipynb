{
 "cells": [
  {
   "cell_type": "markdown",
   "metadata": {},
   "source": [
    "# Some preliminary python code"
   ]
  },
  {
   "cell_type": "code",
   "execution_count": 1,
   "metadata": {},
   "outputs": [],
   "source": [
    "%matplotlib inline\n",
    "\n",
    "import warnings; warnings.simplefilter('ignore')\n",
    "\n",
    "import matplotlib.pyplot as plt\n",
    "import numpy as np\n",
    "import sklearn"
   ]
  },
  {
   "cell_type": "markdown",
   "metadata": {},
   "source": [
    "# Univariate continuous -> discrete filter: Breast cancer classification dataset\n",
    "\n",
    "As an example, we will consider the breast cancer classification dataset. This classification dataset has 30 continuous features with 569 samples. "
   ]
  },
  {
   "cell_type": "code",
   "execution_count": 2,
   "metadata": {},
   "outputs": [],
   "source": [
    "from sklearn.datasets import load_breast_cancer\n",
    "from sklearn.model_selection import train_test_split\n",
    "from sklearn.model_selection import cross_val_score\n",
    "from sklearn.pipeline import make_pipeline\n",
    "\n",
    "from sklearn.feature_selection import SelectKBest, SelectPercentile\n",
    "from sklearn.feature_selection import chi2, f_classif\n",
    "\n",
    "from sklearn.pipeline import make_pipeline\n",
    "from sklearn.svm import SVC\n",
    "from sklearn.preprocessing import StandardScaler\n",
    "\n",
    "data  = load_breast_cancer()\n",
    "\n",
    "# We split the dataset with 15% as a test, using stratified to ensure the train and test sets\n",
    "# both have approximately the same statistics as the whole dataset\n",
    "X_train, X_test, y_train, y_test = train_test_split(data['data'], data['target'], stratify=data['target'], test_size=0.15)\n",
    "\n",
    "scaler = StandardScaler()\n",
    "scaler.fit(X_train)\n",
    "\n",
    "X_train = scaler.transform(X_train)\n",
    "X_test = scaler.transform(X_test)\n"
   ]
  },
  {
   "cell_type": "markdown",
   "metadata": {},
   "source": [
    "## Baseline without feature selection"
   ]
  },
  {
   "cell_type": "markdown",
   "metadata": {},
   "source": [
    "**Without** feature selection, we use all the 30 features for the RBF SVC"
   ]
  },
  {
   "cell_type": "code",
   "execution_count": 3,
   "metadata": {},
   "outputs": [
    {
     "name": "stdout",
     "output_type": "stream",
     "text": [
      "Accuracy on the test set : 96.51 %\n",
      "Real risk by cross validation: 0.97 (+/- 0.01)\n"
     ]
    }
   ],
   "source": [
    "# Train the classification SVM\n",
    "clf = SVC(kernel='rbf')\n",
    "clf.fit(X_train, y_train) \n",
    "\n",
    "# Finally, we estimate the accuracy on the test set\n",
    "y_test_pred = clf.predict(X_test)\n",
    "test_accuracy = 100 * (y_test_pred == y_test).sum() / y_test.size\n",
    "print(\"Accuracy on the test set : {:.2f} %\".format(test_accuracy))\n",
    "\n",
    "# We can also estimate the real risk by cross validating the whole process\n",
    "clf = make_pipeline(StandardScaler(), \n",
    "                    SVC(kernel='rbf'))\n",
    "scores = cross_val_score(clf, data['data'], data['target'], cv=4)\n",
    "print(\"Real risk by cross validation: %0.2f (+/- %0.2f)\" % (scores.mean(), scores.std() * 2))\n"
   ]
  },
  {
   "cell_type": "markdown",
   "metadata": {},
   "source": [
    "## Compute the ANOVA F-values"
   ]
  },
  {
   "cell_type": "code",
   "execution_count": 4,
   "metadata": {},
   "outputs": [
    {
     "data": {
      "text/plain": [
       "(array([[0.19862277, 0.54792488, 0.32875493, 0.10273592, 0.02739624,\n",
       "         0.01369812, 0.00684906, 0.00684906, 0.        , 0.        ],\n",
       "        [0.32143118, 0.43942491, 0.27667494, 0.11799373, 0.04068749,\n",
       "         0.02441249, 0.        , 0.0081375 , 0.        , 0.00406875]]),\n",
       " array([-1.54311422, -0.73197303,  0.07916816,  0.89030936,  1.70145055,\n",
       "         2.51259174,  3.32373293,  4.13487412,  4.94601532,  5.75715651,\n",
       "         6.5682977 ]),\n",
       " <a list of 2 BarContainer objects>)"
      ]
     },
     "execution_count": 4,
     "metadata": {},
     "output_type": "execute_result"
    },
    {
     "data": {
      "image/png": "[encoded data removed]",
      "text/plain": [
       "<Figure size 432x288 with 1 Axes>"
      ]
     },
     "metadata": {
      "needs_background": "light"
     },
     "output_type": "display_data"
    },
    {
     "data": {
      "image/png": "[encoded data removed]",
      "text/plain": [
       "<Figure size 432x288 with 1 Axes>"
      ]
     },
     "metadata": {
      "needs_background": "light"
     },
     "output_type": "display_data"
    }
   ],
   "source": [
    "# Compute the F-valuues\n",
    "f_values = f_classif(X_train, y_train)[0]\n",
    "\n",
    "# Sort the F-values\n",
    "sorted_idx = np.argsort(f_values)\n",
    "\n",
    "highest_F_idx = sorted_idx[-1]\n",
    "lowest_F_idx = sorted_idx[0]\n",
    "\n",
    "# Extract the positive and negative samples masks\n",
    "pos_samples = y_train == 0\n",
    "neg_samples = np.logical_not(pos_samples)\n",
    "\n",
    "# Plot\n",
    "n_bins = 10\n",
    "plt.figure()\n",
    "plt.title(f\"Distribution [X_{highest_F_idx}/y], F = {f_values[highest_F_idx]}\")\n",
    "plt.hist([X_train[pos_samples, highest_F_idx],\n",
    "          X_train[neg_samples, highest_F_idx]],\n",
    "         n_bins, density=True,\n",
    "         histtype='bar',\n",
    "         color=['tab:blue','tab:orange'],\n",
    "         label=['Pos', 'Neg'])\n",
    "\n",
    "plt.figure()\n",
    "plt.title(f\"Distribution [X_{lowest_F_idx}/y], F = {f_values[lowest_F_idx]}\")\n",
    "plt.hist([X_train[pos_samples, lowest_F_idx],\n",
    "          X_train[neg_samples, lowest_F_idx]],\n",
    "         n_bins, density=True,\n",
    "         histtype='bar',\n",
    "         color=['tab:blue','tab:orange'],\n",
    "         label=['Pos', 'Neg'])\n"
   ]
  },
  {
   "cell_type": "markdown",
   "metadata": {},
   "source": [
    "## Feature selection"
   ]
  },
  {
   "cell_type": "markdown",
   "metadata": {},
   "source": [
    "**With** feature selection, where 3 of the features which have the highest ANOVA are selected. In this selection, denoting X the considered feature and y the discrete target, we analyze the distributions of P(X / y) and ask, informally the following question : is the distribution of the feature value significantly dependent on the class ? "
   ]
  },
  {
   "cell_type": "code",
   "execution_count": 5,
   "metadata": {},
   "outputs": [
    {
     "name": "stdout",
     "output_type": "stream",
     "text": [
      "The selector selected 3 features, which have the indices [20 22 27], i.e. ['worst radius', 'worst perimeter', 'worst concave points']\n",
      "Accuracy on the test set : 95.35 %\n",
      "Real risk by cross validation: 0.95 (+/- 0.02)\n"
     ]
    }
   ],
   "source": [
    "# We perform feature selection from the training set\n",
    "selector = SelectKBest(f_classif, k=3)\n",
    "selector.fit(X_train, y_train)\n",
    "\n",
    "# Print out which are the selected features\n",
    "selected_indices = selector.get_support(indices=True)\n",
    "names_selected_indices = [data['feature_names'][i] for i in selected_indices]\n",
    "print(\"The selector selected {} features, which have the indices {}, i.e. {}\".format(len(selected_indices), selected_indices, names_selected_indices))\n",
    "\n",
    "# We reduce the training set \n",
    "X_train_red = selector.transform(X_train)\n",
    "\n",
    "# Train the classification SVM\n",
    "clf = SVC(kernel='rbf')\n",
    "clf.fit(X_train_red, y_train) \n",
    "\n",
    "# Finally, we estimate the accuracy on the test set\n",
    "y_test_pred = clf.predict(selector.transform(X_test))\n",
    "test_accuracy = 100 * (y_test_pred == y_test).sum() / y_test.size\n",
    "print(\"Accuracy on the test set : {:.2f} %\".format(test_accuracy))\n",
    "\n",
    "# We can also estimate the real risk by cross validating the whole process\n",
    "clf = make_pipeline(StandardScaler(), \n",
    "                    SelectKBest(f_classif, k=3),\n",
    "                    SVC(kernel='rbf'))\n",
    "scores = cross_val_score(clf, data['data'], data['target'], cv=4)\n",
    "print(\"Real risk by cross validation: %0.2f (+/- %0.2f)\" % (scores.mean(), scores.std() * 2))\n"
   ]
  }
 ],
 "metadata": {
  "kernelspec": {
   "display_name": "Python 3.8.10 64-bit",
   "language": "python",
   "name": "python3"
  },
  "language_info": {
   "codemirror_mode": {
    "name": "ipython",
    "version": 3
   },
   "file_extension": ".py",
   "mimetype": "text/x-python",
   "name": "python",
   "nbconvert_exporter": "python",
   "pygments_lexer": "ipython3",
   "version": "3.8.10"
  },
  "vscode": {
   "interpreter": {
    "hash": "916dbcbb3f70747c44a77c7bcd40155683ae19c65e1c03b4aa3499c5328201f1"
   }
  }
 },
 "nbformat": 4,
 "nbformat_minor": 4
}
