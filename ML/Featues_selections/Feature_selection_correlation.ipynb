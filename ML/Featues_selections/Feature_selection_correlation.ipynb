{
 "cells": [
  {
   "cell_type": "markdown",
   "metadata": {},
   "source": [
    "# Some preliminary python code"
   ]
  },
  {
   "cell_type": "code",
   "execution_count": 1,
   "metadata": {},
   "outputs": [],
   "source": [
    "%matplotlib inline\n",
    "\n",
    "import warnings; warnings.simplefilter('ignore')\n",
    "\n",
    "import matplotlib.pyplot as plt\n",
    "import numpy as np\n",
    "import sklearn"
   ]
  },
  {
   "cell_type": "markdown",
   "metadata": {},
   "source": [
    "# Univariate continuous -> continuous filter: Boston housing regression dataset\n",
    "\n",
    "As an example, we will consider the boston housing prices dataset. This regression dataset has 13 continuous (real, positive) features with 506 samples. "
   ]
  },
  {
   "cell_type": "code",
   "execution_count": 1,
   "metadata": {},
   "outputs": [
    {
     "name": "stderr",
     "output_type": "stream",
     "text": [
      "/home/mraillat/.local/lib/python3.8/site-packages/sklearn/utils/deprecation.py:87: FutureWarning: Function load_boston is deprecated; `load_boston` is deprecated in 1.0 and will be removed in 1.2.\n",
      "\n",
      "    The Boston housing prices dataset has an ethical problem. You can refer to\n",
      "    the documentation of this function for further details.\n",
      "\n",
      "    The scikit-learn maintainers therefore strongly discourage the use of this\n",
      "    dataset unless the purpose of the code is to study and educate about\n",
      "    ethical issues in data science and machine learning.\n",
      "\n",
      "    In this special case, you can fetch the dataset from the original\n",
      "    source::\n",
      "\n",
      "        import pandas as pd\n",
      "        import numpy as np\n",
      "\n",
      "        data_url = \"http://lib.stat.cmu.edu/datasets/boston\"\n",
      "        raw_df = pd.read_csv(data_url, sep=\"\\s+\", skiprows=22, header=None)\n",
      "        data = np.hstack([raw_df.values[::2, :], raw_df.values[1::2, :2]])\n",
      "        target = raw_df.values[1::2, 2]\n",
      "\n",
      "    Alternative datasets include the California housing dataset (i.e.\n",
      "    :func:`~sklearn.datasets.fetch_california_housing`) and the Ames housing\n",
      "    dataset. You can load the datasets as follows::\n",
      "\n",
      "        from sklearn.datasets import fetch_california_housing\n",
      "        housing = fetch_california_housing()\n",
      "\n",
      "    for the California housing dataset and::\n",
      "\n",
      "        from sklearn.datasets import fetch_openml\n",
      "        housing = fetch_openml(name=\"house_prices\", as_frame=True)\n",
      "\n",
      "    for the Ames housing dataset.\n",
      "  warnings.warn(msg, category=FutureWarning)\n"
     ]
    }
   ],
   "source": [
    "from sklearn.datasets import load_boston\n",
    "from sklearn.model_selection import train_test_split\n",
    "from sklearn.model_selection import cross_val_score\n",
    "from sklearn.pipeline import make_pipeline\n",
    "\n",
    "from sklearn.feature_selection import SelectKBest, SelectPercentile\n",
    "from sklearn.feature_selection import f_regression\n",
    "\n",
    "from sklearn.pipeline import make_pipeline\n",
    "from sklearn.svm import SVR\n",
    "from sklearn.preprocessing import StandardScaler\n",
    "\n",
    "data  = load_boston()\n",
    "\n",
    "data_to_keep = data['target'] < 45\n",
    "data['data'] = data['data'][data_to_keep]\n",
    "data['target'] = data['target'][data_to_keep]\n",
    "\n",
    "# We split the dataset with 15% as a test, using stratified to ensure the train and test sets\n",
    "# both have approximately the same statistics as the whole dataset\n",
    "X_train, X_test, y_train, y_test = train_test_split(data['data'], data['target'], test_size=0.15)\n",
    "\n",
    "scaler = StandardScaler()\n",
    "scaler.fit(X_train)\n",
    "\n",
    "X_train = scaler.transform(X_train)\n",
    "X_test = scaler.transform(X_test)\n"
   ]
  },
  {
   "cell_type": "code",
   "execution_count": 3,
   "metadata": {},
   "outputs": [
    {
     "name": "stdout",
     "output_type": "stream",
     "text": [
      "(411, 13)\n"
     ]
    }
   ],
   "source": [
    "print(X_train.shape)"
   ]
  },
  {
   "cell_type": "markdown",
   "metadata": {},
   "source": [
    "## Baseline without feature selection"
   ]
  },
  {
   "cell_type": "markdown",
   "metadata": {},
   "source": [
    "**Without** feature selection, we use all the 13 features for the RBF SVR"
   ]
  },
  {
   "cell_type": "code",
   "execution_count": 3,
   "metadata": {
    "scrolled": true
   },
   "outputs": [
    {
     "name": "stdout",
     "output_type": "stream",
     "text": [
      "RMSE on the test set : 2.99\n"
     ]
    },
    {
     "data": {
      "image/png": "[encoded data removed]",
      "text/plain": [
       "<Figure size 432x288 with 1 Axes>"
      ]
     },
     "metadata": {
      "needs_background": "light"
     },
     "output_type": "display_data"
    },
    {
     "name": "stdout",
     "output_type": "stream",
     "text": [
      "Real risk by cross validation: 4.77\n"
     ]
    }
   ],
   "source": [
    "# Train the classification SVR\n",
    "clf = SVR(kernel='rbf')\n",
    "clf.fit(X_train, y_train) \n",
    "\n",
    "# Finally, we estimate the MSE on the test set\n",
    "y_test_pred = clf.predict(X_test)\n",
    "rmse = np.sqrt(((y_test - y_test_pred)**2).mean())\n",
    "print(\"RMSE on the test set : {:.2f}\".format(rmse))\n",
    "\n",
    "plt.figure()\n",
    "plt.plot(y_train, clf.predict(X_train)-y_train,'+', color='tab:blue', label='train')\n",
    "plt.plot(y_test, clf.predict(X_test)-y_test,'+', color='tab:red', label='test')\n",
    "plt.legend()\n",
    "plt.show()\n",
    "\n",
    "# We can also estimate the real risk by cross validating the whole process\n",
    "clf = make_pipeline(StandardScaler(), \n",
    "                    SVR(kernel='rbf'))\n",
    "scores = -cross_val_score(clf, data['data'], data['target'],\n",
    "                         scoring='neg_mean_squared_error', cv=10)\n",
    "print(\"Real risk by cross validation: %0.2f\" % (np.sqrt(scores.mean())))\n"
   ]
  },
  {
   "cell_type": "markdown",
   "metadata": {},
   "source": [
    "## Compute the correlation coefficients"
   ]
  },
  {
   "cell_type": "code",
   "execution_count": 4,
   "metadata": {},
   "outputs": [
    {
     "name": "stdout",
     "output_type": "stream",
     "text": [
      "[111.36572934  67.7989002  217.59518205   1.43958862 148.85221651\n",
      " 274.93314732 124.37377901  56.6484829  123.44694849 186.08849548\n",
      " 139.39598191  79.21038333 538.88541863]\n"
     ]
    }
   ],
   "source": [
    "# Compute the F-valuues\n",
    "f_values = f_regression(X_train, y_train)[0]\n",
    "\n",
    "print(f_values)\n",
    "\n",
    "# Sort the F-values\n",
    "sorted_idx = np.argsort(f_values)\n",
    "\n",
    "highest_F_idx = sorted_idx[-1]\n",
    "lowest_F_idx = sorted_idx[0]\n",
    "\n",
    "\n"
   ]
  },
  {
   "cell_type": "markdown",
   "metadata": {},
   "source": [
    "## Feature selection"
   ]
  },
  {
   "cell_type": "markdown",
   "metadata": {},
   "source": [
    "**With** feature selection, where 3 of the features which have the highest F are selected. In this selection, denoting X the considered feature and y the continuous target, we select the features which are the most correlated with the target."
   ]
  },
  {
   "cell_type": "code",
   "execution_count": 5,
   "metadata": {},
   "outputs": [
    {
     "name": "stdout",
     "output_type": "stream",
     "text": [
      "The selector selected 3 features, which have the indices [ 2  5 12], i.e. ['INDUS', 'RM', 'LSTAT']\n",
      "RMSE on the test set : 3.03\n",
      "Real risk by cross validation: 4.10\n"
     ]
    }
   ],
   "source": [
    "# We perform feature selection from the training set\n",
    "selector = SelectKBest(f_regression, k=3)\n",
    "selector.fit(X_train, y_train)\n",
    "\n",
    "# Print out which are the selected features\n",
    "selected_indices = selector.get_support(indices=True)\n",
    "names_selected_indices = [data['feature_names'][i] for i in selected_indices]\n",
    "print(\"The selector selected {} features, which have the indices {}, i.e. {}\".format(len(selected_indices), selected_indices, names_selected_indices))\n",
    "\n",
    "# We reduce the training set \n",
    "X_train_red = selector.transform(X_train)\n",
    "\n",
    "# Train the regression SVM\n",
    "clf = SVR(kernel='rbf')\n",
    "clf.fit(X_train_red, y_train) \n",
    "\n",
    "# Finally, we estimate the accuracy on the test set\n",
    "y_test_pred = clf.predict(selector.transform(X_test))\n",
    "rmse = np.sqrt(((y_test - y_test_pred)**2).mean())\n",
    "print(\"RMSE on the test set : {:.2f}\".format(rmse))\n",
    "\n",
    "# We can also estimate the real risk by cross validating the whole process\n",
    "clf = make_pipeline(StandardScaler(), \n",
    "                    SelectKBest(f_regression, k=3),\n",
    "                    SVR(kernel='rbf'))\n",
    "scores = -cross_val_score(clf, data['data'], data['target'],\n",
    "                         scoring='neg_mean_squared_error', cv=10)\n",
    "print(\"Real risk by cross validation: %0.2f\" % (np.sqrt(scores.mean())))\n"
   ]
  },
  {
   "cell_type": "code",
   "execution_count": null,
   "metadata": {},
   "outputs": [],
   "source": []
  }
 ],
 "metadata": {
  "kernelspec": {
   "display_name": "Python 3.8.10 64-bit",
   "language": "python",
   "name": "python3"
  },
  "language_info": {
   "codemirror_mode": {
    "name": "ipython",
    "version": 3
   },
   "file_extension": ".py",
   "mimetype": "text/x-python",
   "name": "python",
   "nbconvert_exporter": "python",
   "pygments_lexer": "ipython3",
   "version": "3.8.10"
  },
  "vscode": {
   "interpreter": {
    "hash": "916dbcbb3f70747c44a77c7bcd40155683ae19c65e1c03b4aa3499c5328201f1"
   }
  }
 },
 "nbformat": 4,
 "nbformat_minor": 4
}
